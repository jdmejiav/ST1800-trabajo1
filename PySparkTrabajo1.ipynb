{
 "cells": [
  {
   "cell_type": "code",
   "execution_count": 1,
   "id": "156d2543",
   "metadata": {},
   "outputs": [
    {
     "name": "stdout",
     "output_type": "stream",
     "text": [
      "Starting Spark application\n"
     ]
    },
    {
     "data": {
      "text/html": [
       "<table>\n",
       "<tr><th>ID</th><th>YARN Application ID</th><th>Kind</th><th>State</th><th>Spark UI</th><th>Driver log</th><th>User</th><th>Current session?</th></tr><tr><td>0</td><td>application_1693752504778_0001</td><td>pyspark</td><td>idle</td><td><a target=\"_blank\" href=\"http://ip-172-31-16-199.ec2.internal:20888/proxy/application_1693752504778_0001/\">Link</a></td><td><a target=\"_blank\" href=\"http://ip-172-31-19-174.ec2.internal:8042/node/containerlogs/container_1693752504778_0001_01_000001/livy\">Link</a></td><td>None</td><td>✔</td></tr></table>"
      ],
      "text/plain": [
       "<IPython.core.display.HTML object>"
      ]
     },
     "metadata": {},
     "output_type": "display_data"
    },
    {
     "data": {
      "application/vnd.jupyter.widget-view+json": {
       "model_id": "dea364cc886c4c36bf896bcc5575bbe1",
       "version_major": 2,
       "version_minor": 0
      },
      "text/plain": [
       "FloatProgress(value=0.0, bar_style='info', description='Progress:', layout=Layout(height='25px', width='50%'),…"
      ]
     },
     "metadata": {},
     "output_type": "display_data"
    },
    {
     "name": "stdout",
     "output_type": "stream",
     "text": [
      "SparkSession available as 'spark'.\n"
     ]
    },
    {
     "data": {
      "application/vnd.jupyter.widget-view+json": {
       "model_id": "e56f34bb1494403aa2a7b391b3b122d4",
       "version_major": 2,
       "version_minor": 0
      },
      "text/plain": [
       "FloatProgress(value=0.0, bar_style='info', description='Progress:', layout=Layout(height='25px', width='50%'),…"
      ]
     },
     "metadata": {},
     "output_type": "display_data"
    },
    {
     "name": "stdout",
     "output_type": "stream",
     "text": [
      "<pyspark.sql.session.SparkSession object at 0x7f908cb40dd0>"
     ]
    }
   ],
   "source": [
    "spark"
   ]
  },
  {
   "cell_type": "code",
   "execution_count": 8,
   "id": "6804500d",
   "metadata": {},
   "outputs": [
    {
     "data": {
      "application/vnd.jupyter.widget-view+json": {
       "model_id": "ddd18187b4cf43539b674184ce6a05ca",
       "version_major": 2,
       "version_minor": 0
      },
      "text/plain": [
       "FloatProgress(value=0.0, bar_style='info', description='Progress:', layout=Layout(height='25px', width='50%'),…"
      ]
     },
     "metadata": {},
     "output_type": "display_data"
    },
    {
     "name": "stdout",
     "output_type": "stream",
     "text": [
      "+------------+--------------------+--------------+--------------------+-----+--------+------+------+------+------+------+------+------+------+------+------+------+------+------+------+------+------+------+------+------+------+------+------+\n",
      "| countrycode|         countryname|    seriescode|          seriesname|scale|decimals|  1990|  1991|  1992|  1993|  1994|  1995|  1996|  1997|  1998|  1999|  2000|  2001|  2002|  2003|  2004|  2005|  2006|  2007|  2008|  2009|  2010|  2011|\n",
      "+------------+--------------------+--------------+--------------------+-----+--------+------+------+------+------+------+------+------+------+------+------+------+------+------+------+------+------+------+------+------+------+------+------+\n",
      "|Country code|        Country name|   Series code|         Series name|    0|       0|1990.0|1991.0|1992.0|1993.0|1994.0|1995.0|1996.0|1997.0|1998.0|1999.0|2000.0|2001.0|2002.0|2003.0|2004.0|2005.0|2006.0|2007.0|2008.0|2009.0|2010.0|2011.0|\n",
      "|         ABW|               Aruba|AG.LND.EL5M.ZS|Land area below 5...|    0|       1| 29.57|   0.0|   0.0|   0.0|   0.0|   0.0|   0.0|   0.0|   0.0|   0.0| 29.57|   0.0|   0.0|   0.0|   0.0|   0.0|   0.0|   0.0|   0.0|   0.0|   0.0|   0.0|\n",
      "|         ADO|             Andorra|AG.LND.EL5M.ZS|Land area below 5...|    0|       1|   0.0|   0.0|   0.0|   0.0|   0.0|   0.0|   0.0|   0.0|   0.0|   0.0|   0.0|   0.0|   0.0|   0.0|   0.0|   0.0|   0.0|   0.0|   0.0|   0.0|   0.0|   0.0|\n",
      "|         AFG|         Afghanistan|AG.LND.EL5M.ZS|Land area below 5...|    0|       1|   0.0|   0.0|   0.0|   0.0|   0.0|   0.0|   0.0|   0.0|   0.0|   0.0|   0.0|   0.0|   0.0|   0.0|   0.0|   0.0|   0.0|   0.0|   0.0|   0.0|   0.0|   0.0|\n",
      "|         AGO|              Angola|AG.LND.EL5M.ZS|Land area below 5...|    0|       1|  0.21|   0.0|   0.0|   0.0|   0.0|   0.0|   0.0|   0.0|   0.0|   0.0|  0.21|   0.0|   0.0|   0.0|   0.0|   0.0|   0.0|   0.0|   0.0|   0.0|   0.0|   0.0|\n",
      "|         ALB|             Albania|AG.LND.EL5M.ZS|Land area below 5...|    0|       1|  4.97|   0.0|   0.0|   0.0|   0.0|   0.0|   0.0|   0.0|   0.0|   0.0|  4.97|   0.0|   0.0|   0.0|   0.0|   0.0|   0.0|   0.0|   0.0|   0.0|   0.0|   0.0|\n",
      "|         ARE|United Arab Emirates|AG.LND.EL5M.ZS|Land area below 5...|    0|       1|  4.64|   0.0|   0.0|   0.0|   0.0|   0.0|   0.0|   0.0|   0.0|   0.0|  4.64|   0.0|   0.0|   0.0|   0.0|   0.0|   0.0|   0.0|   0.0|   0.0|   0.0|   0.0|\n",
      "|         ARG|           Argentina|AG.LND.EL5M.ZS|Land area below 5...|    0|       1|  1.23|   0.0|   0.0|   0.0|   0.0|   0.0|   0.0|   0.0|   0.0|   0.0|  1.23|   0.0|   0.0|   0.0|   0.0|   0.0|   0.0|   0.0|   0.0|   0.0|   0.0|   0.0|\n",
      "|         ARM|             Armenia|AG.LND.EL5M.ZS|Land area below 5...|    0|       1|   0.0|   0.0|   0.0|   0.0|   0.0|   0.0|   0.0|   0.0|   0.0|   0.0|   0.0|   0.0|   0.0|   0.0|   0.0|   0.0|   0.0|   0.0|   0.0|   0.0|   0.0|   0.0|\n",
      "|         ASM|      American Samoa|AG.LND.EL5M.ZS|Land area below 5...|    0|       1| 17.89|   0.0|   0.0|   0.0|   0.0|   0.0|   0.0|   0.0|   0.0|   0.0| 17.89|   0.0|   0.0|   0.0|   0.0|   0.0|   0.0|   0.0|   0.0|   0.0|   0.0|   0.0|\n",
      "|         ATG| Antigua and Barbuda|AG.LND.EL5M.ZS|Land area below 5...|    0|       1| 32.42|   0.0|   0.0|   0.0|   0.0|   0.0|   0.0|   0.0|   0.0|   0.0| 32.42|   0.0|   0.0|   0.0|   0.0|   0.0|   0.0|   0.0|   0.0|   0.0|   0.0|   0.0|\n",
      "|         AUS|           Australia|AG.LND.EL5M.ZS|Land area below 5...|    0|       1|  1.14|   0.0|   0.0|   0.0|   0.0|   0.0|   0.0|   0.0|   0.0|   0.0|  1.14|   0.0|   0.0|   0.0|   0.0|   0.0|   0.0|   0.0|   0.0|   0.0|   0.0|   0.0|\n",
      "|         AUT|             Austria|AG.LND.EL5M.ZS|Land area below 5...|    0|       1|   0.0|   0.0|   0.0|   0.0|   0.0|   0.0|   0.0|   0.0|   0.0|   0.0|   0.0|   0.0|   0.0|   0.0|   0.0|   0.0|   0.0|   0.0|   0.0|   0.0|   0.0|   0.0|\n",
      "|         AZE|          Azerbaijan|AG.LND.EL5M.ZS|Land area below 5...|    0|       1| 19.97|   0.0|   0.0|   0.0|   0.0|   0.0|   0.0|   0.0|   0.0|   0.0| 19.97|   0.0|   0.0|   0.0|   0.0|   0.0|   0.0|   0.0|   0.0|   0.0|   0.0|   0.0|\n",
      "|         BDI|             Burundi|AG.LND.EL5M.ZS|Land area below 5...|    0|       1|   0.0|   0.0|   0.0|   0.0|   0.0|   0.0|   0.0|   0.0|   0.0|   0.0|   0.0|   0.0|   0.0|   0.0|   0.0|   0.0|   0.0|   0.0|   0.0|   0.0|   0.0|   0.0|\n",
      "|         BEL|             Belgium|AG.LND.EL5M.ZS|Land area below 5...|    0|       1|  9.24|   0.0|   0.0|   0.0|   0.0|   0.0|   0.0|   0.0|   0.0|   0.0|  9.24|   0.0|   0.0|   0.0|   0.0|   0.0|   0.0|   0.0|   0.0|   0.0|   0.0|   0.0|\n",
      "|         BEN|               Benin|AG.LND.EL5M.ZS|Land area below 5...|    0|       1|  1.16|   0.0|   0.0|   0.0|   0.0|   0.0|   0.0|   0.0|   0.0|   0.0|  1.16|   0.0|   0.0|   0.0|   0.0|   0.0|   0.0|   0.0|   0.0|   0.0|   0.0|   0.0|\n",
      "|         BFA|        Burkina Faso|AG.LND.EL5M.ZS|Land area below 5...|    0|       1|   0.0|   0.0|   0.0|   0.0|   0.0|   0.0|   0.0|   0.0|   0.0|   0.0|   0.0|   0.0|   0.0|   0.0|   0.0|   0.0|   0.0|   0.0|   0.0|   0.0|   0.0|   0.0|\n",
      "|         BGD|          Bangladesh|AG.LND.EL5M.ZS|Land area below 5...|    0|       1| 14.07|   0.0|   0.0|   0.0|   0.0|   0.0|   0.0|   0.0|   0.0|   0.0| 14.07|   0.0|   0.0|   0.0|   0.0|   0.0|   0.0|   0.0|   0.0|   0.0|   0.0|   0.0|\n",
      "|         BGR|            Bulgaria|AG.LND.EL5M.ZS|Land area below 5...|    0|       1|  0.43|   0.0|   0.0|   0.0|   0.0|   0.0|   0.0|   0.0|   0.0|   0.0|  0.43|   0.0|   0.0|   0.0|   0.0|   0.0|   0.0|   0.0|   0.0|   0.0|   0.0|   0.0|\n",
      "+------------+--------------------+--------------+--------------------+-----+--------+------+------+------+------+------+------+------+------+------+------+------+------+------+------+------+------+------+------+------+------+------+------+\n",
      "only showing top 20 rows"
     ]
    }
   ],
   "source": [
    "from pyspark.sql import SparkSession\n",
    "\n",
    "spark = SparkSession.builder.appName(\"DataPrepCatalogacionHive\").getOrCreate()\n",
    "\n",
    "df = spark.sql(\"SELECT * FROM temperatures_hive_catalog.climate_change\")\n",
    "\n",
    "df_sin_nulos.createOrReplaceTempView(\"temp_table\")  # Crea una tabla temporal\n",
    "\n",
    "spark.sql(\"CREATE TABLE temperatures_hive_catalog.trusted_climate_change AS SELECT * FROM temp_table\")\n",
    "\n",
    "df_sin_nulos.show()"
   ]
  },
  {
   "cell_type": "code",
   "execution_count": null,
   "id": "9ac88c6f",
   "metadata": {},
   "outputs": [],
   "source": []
  }
 ],
 "metadata": {
  "kernelspec": {
   "display_name": "PySpark",
   "language": "python",
   "name": "pysparkkernel"
  },
  "language_info": {
   "codemirror_mode": {
    "name": "python",
    "version": 3
   },
   "file_extension": ".py",
   "mimetype": "text/x-python",
   "name": "pyspark",
   "pygments_lexer": "python3"
  }
 },
 "nbformat": 4,
 "nbformat_minor": 5
}
